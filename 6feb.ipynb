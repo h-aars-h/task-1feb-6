{
 "cells": [
  {
   "cell_type": "code",
   "execution_count": 5,
   "id": "612d0cfa-9427-4144-84ef-e54c70fa61c7",
   "metadata": {},
   "outputs": [],
   "source": []
  },
  {
   "cell_type": "code",
   "execution_count": 9,
   "id": "9c1e2c3c-bfb5-4a14-8e22-db39691de176",
   "metadata": {},
   "outputs": [
    {
     "name": "stdout",
     "output_type": "stream",
     "text": [
      "Product of all numbers in the flat list: 0\n"
     ]
    }
   ],
   "source": [
    "# Q1. Create a function which will take a list as an argument and return the product of all the numbers\n",
    "# after creating a flat list.\n",
    "# Use the below-given list as an argument for your function.\n",
    "# list1 = [1,2,3,4, [44,55,66, True], False, (34,56,78,89,34), {1,2,3,3,2,1}, {1:34, \"key2\": [55, 67, 78, 89], 4: (45,\n",
    "# 22, 61, 34)}, [56, 'data science'], 'Machine Learning']\n",
    "\"ans 1\"def product_of_numbers(list1):\n",
    "    flat_list = []\n",
    "    def flatten(lst):\n",
    "        for item in lst:\n",
    "            if isinstance(item, (list, tuple, set)):\n",
    "                flatten(item)\n",
    "            elif isinstance(item, dict):\n",
    "                for key, value in item.items():\n",
    "                    if isinstance(key, (int, float)):\n",
    "                        flat_list.append(key)\n",
    "                    if isinstance(value, (int, float)):\n",
    "                        flat_list.append(value)\n",
    "                    if isinstance(value, (list, tuple, set)):\n",
    "                        flatten(value)\n",
    "            elif isinstance(item, (int, float)):\n",
    "                flat_list.append(item)\n",
    "    flatten(list1)\n",
    "    product = 1\n",
    "    for num in flat_list:\n",
    "        product *= num\n",
    "    return product\n",
    "\n",
    "list1 = [1,2,3,4, [44,55,66, True], False, (34,56,78,89,34), {1,2,3,3,2,1}, {1:34, \"key2\": [55, 67, 78, 89], 4: (45,\n",
    "22, 61, 34)}, [56, 'data science'], 'Machine Learning']\n",
    "result = product_of_numbers(list1)\n",
    "print(\"Product of all numbers in the flat list:\", result)\n"
   ]
  },
  {
   "cell_type": "code",
   "execution_count": 19,
   "id": "8ca5179a-b393-44c2-b7ce-2bc7ed2606d2",
   "metadata": {},
   "outputs": [
    {
     "name": "stdout",
     "output_type": "stream",
     "text": [
      "Encrypted message: r$dzmg$gl$yvxlnv$z$wzgz$hxrvmgrhg.\n"
     ]
    }
   ],
   "source": [
    "# Q2. Write a python program for encrypting a message sent to you by your friend. The logic of encryption\n",
    "# should be such that, for a the output should be z. For b, the output should be y. For c, the output should\n",
    "# be x respectively. Also, the whitespace should be replaced with a dollar sign. Keep the punctuation\n",
    "# marks unchanged.\n",
    "# Input Sentence: I want to become a Data Scientist.\n",
    "# Encrypt the above input sentence using the program you just created.\n",
    "# ANS 2\n",
    "def encrypt_message(message):\n",
    "    message = message.lower()\n",
    "    result = \"\"\n",
    "    for char in message:\n",
    "        if char.isalpha():\n",
    "            char = chr(122 - ord(char) + 97)\n",
    "        elif char == \" \":\n",
    "            char = \"$\"\n",
    "        result += char\n",
    "    return result\n",
    "\n",
    "message = \"I want to become a Data Scientist.\"\n",
    "encrypted_message = encrypt_message(message)\n",
    "print(\"Encrypted message:\", encrypted_message)\n"
   ]
  },
  {
   "cell_type": "code",
   "execution_count": 16,
   "id": "27aaff60-23ed-455e-ba3c-9f2c79a97b4d",
   "metadata": {},
   "outputs": [],
   "source": []
  },
  {
   "cell_type": "code",
   "execution_count": null,
   "id": "b3eddf28-5d5e-4b6d-aa5e-afa87962daea",
   "metadata": {},
   "outputs": [],
   "source": []
  }
 ],
 "metadata": {
  "kernelspec": {
   "display_name": "Python 3 (ipykernel)",
   "language": "python",
   "name": "python3"
  },
  "language_info": {
   "codemirror_mode": {
    "name": "ipython",
    "version": 3
   },
   "file_extension": ".py",
   "mimetype": "text/x-python",
   "name": "python",
   "nbconvert_exporter": "python",
   "pygments_lexer": "ipython3",
   "version": "3.10.6"
  }
 },
 "nbformat": 4,
 "nbformat_minor": 5
}
